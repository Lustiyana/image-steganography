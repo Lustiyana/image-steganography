{
  "cells": [
    {
      "cell_type": "markdown",
      "metadata": {
        "id": "view-in-github",
        "colab_type": "text"
      },
      "source": [
        "<a href=\"https://colab.research.google.com/github/Lustiyana/image-steganography/blob/main/Steganografi.ipynb\" target=\"_parent\"><img src=\"https://colab.research.google.com/assets/colab-badge.svg\" alt=\"Open In Colab\"/></a>"
      ]
    },
    {
      "cell_type": "code",
      "execution_count": null,
      "metadata": {
        "id": "T5NvNX0b9uzS"
      },
      "outputs": [],
      "source": [
        "import cv2\n",
        "import numpy as np\n",
        "import types\n",
        "from google.colab.patches import cv2_imshow"
      ]
    },
    {
      "cell_type": "code",
      "execution_count": null,
      "metadata": {
        "id": "3huGSz0D-AdT"
      },
      "outputs": [],
      "source": [
        "def messageToBinary(message):\n",
        "  if type(message) == str:\n",
        "    return ''.join([format(ord(i), \"08b\") for i in message])\n",
        "  elif type(message) == bytes or type(message) == np.ndarray:\n",
        "    return [format(i, \"08b\") for i in message]\n",
        "  elif type(message) == int or type(message) == np.uint8:\n",
        "    return format(message, \"08b\")\n",
        "  else:\n",
        "    raise TypeError(\"Input type not supported\")"
      ]
    },
    {
      "cell_type": "code",
      "execution_count": null,
      "metadata": {
        "id": "Oj2Jy08n-48D"
      },
      "outputs": [],
      "source": [
        "def hideData(image, secret_message):\n",
        "  n_bytes = image.shape[0] * image.shape[1] * 3 // 8\n",
        "  print(\"Max byte encode: \", n_bytes)\n",
        "\n",
        "  if len(secret_message) > n_bytes:\n",
        "    raise ValueError(\"Error\")\n",
        "  \n",
        "  secret_message += \"#####\"\n",
        "\n",
        "  data_index = 0\n",
        "  binary_secret_msg = messageToBinary(secret_message)\n",
        "\n",
        "  data_len = len(binary_secret_msg)\n",
        "  for values in image:\n",
        "    for pixel in values:\n",
        "      r, g, b = messageToBinary(pixel)\n",
        "\n",
        "      if data_index < data_len:\n",
        "        pixel[0] = int(r[:-1] + binary_secret_msg[data_index], 2)\n",
        "        data_index += 1\n",
        "      if data_index < data_len:\n",
        "        pixel[1] = int(g[:-1] + binary_secret_msg[data_index], 2)\n",
        "        data_index += 1\n",
        "      if data_index < data_len:\n",
        "        pixel[2] = int(b[:-1] + binary_secret_msg[data_index], 2)\n",
        "        data_index += 1\n",
        "      if data_index >= data_len:\n",
        "        break\n",
        "  return image"
      ]
    },
    {
      "cell_type": "code",
      "execution_count": null,
      "metadata": {
        "id": "GDa15o1tAirJ"
      },
      "outputs": [],
      "source": [
        "def showData(image):\n",
        "  binary_data = \"\"\n",
        "  for values in image:\n",
        "    for pixel in values:\n",
        "      r, g, b = messageToBinary(pixel)\n",
        "      binary_data += r[-1]\n",
        "      binary_data += g[-1]\n",
        "      binary_data += b[-1]\n",
        "  all_bytes = [ binary_data[i: i+8] for i in range(0, len(binary_data), 8) ]\n",
        "\n",
        "  decoded_data = \"\"\n",
        "  for byte in all_bytes:\n",
        "    decoded_data += chr(int(byte, 2))\n",
        "    if decoded_data[-5:] == \"#####\":\n",
        "      break\n",
        "  return decoded_data[:-5]"
      ]
    },
    {
      "cell_type": "code",
      "execution_count": null,
      "metadata": {
        "id": "twPsd7ATBm5W"
      },
      "outputs": [],
      "source": [
        "def encode_text():\n",
        "  image_name = input(\"nama image(cth: image.png): \")\n",
        "  image = cv2.imread(image_name)\n",
        "\n",
        "  print(\"Shape of image: \", image.shape)\n",
        "  print(\"Original Image: \")\n",
        "  resized_image = cv2.resize(image, (500, 500))\n",
        "  cv2_imshow(resized_image)\n",
        "\n",
        "  data = input(\"Masukkan kode: \")\n",
        "  if(len(data) == 0):\n",
        "    raise ValueError(\"Data Kosong\")\n",
        "\n",
        "  filename = input(\"Nama encoded image baru(cth: encoded.png): \")\n",
        "  encoded_image = hideData(image, data)\n",
        "  cv2.imwrite(filename, encoded_image)"
      ]
    },
    {
      "cell_type": "code",
      "execution_count": null,
      "metadata": {
        "id": "N5X6j6sZDQDG"
      },
      "outputs": [],
      "source": [
        "def decode_text():\n",
        "  image_name = input(\"Nama Steganopraphed image (cth: steganographed.png): \")\n",
        "  image = cv2.imread(image_name)\n",
        "\n",
        "  print(\"The Steganographed: \")\n",
        "  resized_image = cv2.resize(image, (500, 500))\n",
        "  cv2_imshow(resized_image)\n",
        "\n",
        "  text = showData(image)\n",
        "  return text"
      ]
    },
    {
      "cell_type": "code",
      "execution_count": null,
      "metadata": {
        "id": "D73rFNCHELw4"
      },
      "outputs": [],
      "source": [
        "def Steganography():\n",
        "  a = input(\"1. Encode data \\n 2. Decode Data \\n Pilihan: \")\n",
        "  n = int(a)\n",
        "  if (n == 1): \n",
        "    print(\"\\nEncoding....\")\n",
        "    encode_text()\n",
        "  elif (n == 2):\n",
        "    print(\"\\nDecoding....\")\n",
        "    print(\"Decoded message is\" + decode_text())\n",
        "  else:\n",
        "    raise Exception(\"Enter correct input\")\n",
        "\n",
        "Steganography()"
      ]
    }
  ],
  "metadata": {
    "colab": {
      "name": "Steganografi",
      "provenance": [],
      "authorship_tag": "ABX9TyN13wpiYx4iaNzfOd0kvPjI",
      "include_colab_link": true
    },
    "kernelspec": {
      "display_name": "Python 3",
      "name": "python3"
    },
    "language_info": {
      "name": "python"
    }
  },
  "nbformat": 4,
  "nbformat_minor": 0
}